{
 "cells": [
  {
   "cell_type": "markdown",
   "metadata": {},
   "source": [
    "### **Functions**\n",
    "\n",
    "We have covered few built-in functions supported in python.    \n",
    "In this class we will concentrate on User defined functions.\n",
    "\n",
    "**Topics Covered**      \n",
    "> User Defined Functions      \n",
    "> Argument passing      \n",
    "> Recursive Function     \n",
    "> Lambda Function      \n",
    "> More about `print` and `input` \n",
    "\n",
    "-----------\n",
    "\n",
    "What is a Function ?    \n",
    "> A function is a block of code which only runs when it is called.     \n",
    "You can pass data, known as parameters, into a function.      \n",
    "A function can return data as a result.      "
   ]
  },
  {
   "cell_type": "markdown",
   "metadata": {},
   "source": [
    "### User Defined Functions     \n",
    "\n",
    "* A block of code that encapsulates specific tasks or related group of tasks.     \n",
    "* Why Functions?    \n",
    "    1. Reusability     \n",
    "    2. Modularity\n",
    "----\n",
    "> Syntax : \n",
    "``` python\n",
    "def functionname( arguments ):\n",
    "   Function_body\n",
    "   return [expression]\n",
    "```\n",
    "-----\n",
    "`def` is a keyword that informs Python that a function is defined.    \n",
    "`return` is used in 2 senarios :     \n",
    "   * Used to pass value back to the caller          \n",
    "   * To terminate the function and pass execution back to the caller.      \n",
    "\n",
    "The code block within every function starts with a colon (:) and is indented.\n",
    "      \n",
    "------      \n",
    "**Q**. How to call a function?    \n",
    "    We need to use the function name followed by parenthesis."
   ]
  },
  {
   "cell_type": "code",
   "execution_count": 1,
   "metadata": {},
   "outputs": [
    {
     "name": "stdout",
     "output_type": "stream",
     "text": [
      "Hello\n"
     ]
    }
   ],
   "source": [
    "# Function Definition\n",
    "def Greet():\n",
    "    print(\"Hello\")\n",
    "\n",
    "# Function Call\n",
    "Greet()"
   ]
  },
  {
   "cell_type": "markdown",
   "metadata": {},
   "source": [
    "-----------\n",
    "\n",
    "**Defining multiple functions:** "
   ]
  },
  {
   "cell_type": "code",
   "execution_count": 2,
   "metadata": {},
   "outputs": [
    {
     "name": "stdin",
     "output_type": "stream",
     "text": [
      "Tell me your name :  Sam\n"
     ]
    },
    {
     "name": "stdout",
     "output_type": "stream",
     "text": [
      "Hello Stranger\n",
      "Hello Sam\n"
     ]
    }
   ],
   "source": [
    "# Define a function\n",
    "# You will know more about arguments later\n",
    "def Greet(name = \"Stranger\"):    \n",
    "    print(\"Hello {0}\".format(name))\n",
    "\n",
    "# Since we are not calling this function, Python ignores the definition created.\n",
    "def Greet_Stranger():\n",
    "    print(\"Hello Stranger\")\n",
    "    \n",
    "def AskName():\n",
    "    name = input(\"Tell me your name : \")\n",
    "    return name\n",
    "\n",
    "# This is the first point of execution\n",
    "#Step 1:\n",
    "name = AskName()\n",
    "\n",
    "#Step 2: \n",
    "Greet() # Since we are not passing any arguments it will consider Stranger.\n",
    "\n",
    "# If we pass name, it will greet user.\n",
    "Greet(name)"
   ]
  },
  {
   "cell_type": "markdown",
   "metadata": {},
   "source": [
    "--------\n",
    "\n",
    "**Q**. Can we have same function names for 2 functions?\n",
    "\n",
    "Answer : No, When we define multiple functions with the same name, the later one always overrides the prior.     \n",
    "Below is an example for the same."
   ]
  },
  {
   "cell_type": "code",
   "execution_count": 3,
   "metadata": {},
   "outputs": [
    {
     "name": "stdin",
     "output_type": "stream",
     "text": [
      "Tell me your name :  Sam\n"
     ]
    },
    {
     "name": "stdout",
     "output_type": "stream",
     "text": [
      "Hello Stranger\n"
     ]
    },
    {
     "ename": "TypeError",
     "evalue": "Greet() takes 0 positional arguments but 1 was given",
     "output_type": "error",
     "traceback": [
      "\u001b[1;31m---------------------------------------------------------------------------\u001b[0m",
      "\u001b[1;31mTypeError\u001b[0m                                 Traceback (most recent call last)",
      "\u001b[1;32m<ipython-input-3-bec01248e921>\u001b[0m in \u001b[0;36m<module>\u001b[1;34m\u001b[0m\n\u001b[0;32m     18\u001b[0m \u001b[1;31m# Python overrides the method.\u001b[0m\u001b[1;33m\u001b[0m\u001b[1;33m\u001b[0m\u001b[1;33m\u001b[0m\u001b[0m\n\u001b[0;32m     19\u001b[0m \u001b[1;31m# Refer below to know more about this error\u001b[0m\u001b[1;33m\u001b[0m\u001b[1;33m\u001b[0m\u001b[1;33m\u001b[0m\u001b[0m\n\u001b[1;32m---> 20\u001b[1;33m \u001b[0mGreet\u001b[0m\u001b[1;33m(\u001b[0m\u001b[0mname\u001b[0m\u001b[1;33m)\u001b[0m\u001b[1;33m\u001b[0m\u001b[1;33m\u001b[0m\u001b[0m\n\u001b[0m",
      "\u001b[1;31mTypeError\u001b[0m: Greet() takes 0 positional arguments but 1 was given"
     ]
    }
   ],
   "source": [
    "\n",
    "def Greet(name):    \n",
    "    print(\"Hello {0}\".format(name))\n",
    "\n",
    "def Greet():    \n",
    "    print(\"Hello Stranger\")\n",
    "    \n",
    "def AskName():\n",
    "    name = input(\"Tell me your name : \")\n",
    "    return name\n",
    "\n",
    "# This is the first point of execution\n",
    "#Step 1:\n",
    "name = AskName()\n",
    "\n",
    "#Step 2:\n",
    "Greet()\n",
    "\n",
    "# Python overrides the method. \n",
    "# Refer below to know more about this error \n",
    "Greet(name)"
   ]
  },
  {
   "cell_type": "markdown",
   "metadata": {},
   "source": [
    "------------\n",
    "### Argument Passing"
   ]
  },
  {
   "cell_type": "markdown",
   "metadata": {},
   "source": [
    "1. **Positional Arguments** : Required Arguments     \n",
    "By default, parameters have a positional behavior and you need to inform them in the same order that they were defined."
   ]
  },
  {
   "cell_type": "code",
   "execution_count": 4,
   "metadata": {},
   "outputs": [
    {
     "ename": "TypeError",
     "evalue": "AreaOfSquare() missing 1 required positional argument: 'length'",
     "output_type": "error",
     "traceback": [
      "\u001b[1;31m---------------------------------------------------------------------------\u001b[0m",
      "\u001b[1;31mTypeError\u001b[0m                                 Traceback (most recent call last)",
      "\u001b[1;32m<ipython-input-4-fed8f16d5d72>\u001b[0m in \u001b[0;36m<module>\u001b[1;34m\u001b[0m\n\u001b[0;32m      2\u001b[0m \u001b[1;32mdef\u001b[0m \u001b[0mAreaOfSquare\u001b[0m\u001b[1;33m(\u001b[0m\u001b[0mlength\u001b[0m\u001b[1;33m)\u001b[0m\u001b[1;33m:\u001b[0m\u001b[1;33m\u001b[0m\u001b[1;33m\u001b[0m\u001b[0m\n\u001b[0;32m      3\u001b[0m     \u001b[1;32mreturn\u001b[0m \u001b[0mlength\u001b[0m\u001b[1;33m**\u001b[0m\u001b[1;36m2\u001b[0m\u001b[1;33m\u001b[0m\u001b[1;33m\u001b[0m\u001b[0m\n\u001b[1;32m----> 4\u001b[1;33m \u001b[0marea\u001b[0m \u001b[1;33m=\u001b[0m \u001b[0mAreaOfSquare\u001b[0m\u001b[1;33m(\u001b[0m\u001b[1;33m)\u001b[0m\u001b[1;33m\u001b[0m\u001b[1;33m\u001b[0m\u001b[0m\n\u001b[0m\u001b[0;32m      5\u001b[0m \u001b[0mprint\u001b[0m\u001b[1;33m(\u001b[0m\u001b[0marea\u001b[0m\u001b[1;33m)\u001b[0m\u001b[1;33m\u001b[0m\u001b[1;33m\u001b[0m\u001b[0m\n",
      "\u001b[1;31mTypeError\u001b[0m: AreaOfSquare() missing 1 required positional argument: 'length'"
     ]
    }
   ],
   "source": [
    "# Python throws an error when a method is defined with parameter but if we miss while calling. \n",
    "def AreaOfSquare(length):\n",
    "    return length**2\n",
    "area = AreaOfSquare()\n",
    "print(area)"
   ]
  },
  {
   "cell_type": "code",
   "execution_count": 5,
   "metadata": {},
   "outputs": [
    {
     "name": "stdout",
     "output_type": "stream",
     "text": [
      "16\n"
     ]
    }
   ],
   "source": [
    "# Calling function with parameters\n",
    "def AreaOfSquare(length):\n",
    "    return length**2\n",
    "area = AreaOfSquare(4)\n",
    "print(area)"
   ]
  },
  {
   "cell_type": "markdown",
   "metadata": {},
   "source": [
    "2. **Keyword Arguments** : When calling a function, if we specify arguments in the form <keyword> = <value>. In that case, each <keyword> must match a parameter in the Python function definition.    \n",
    "    * No restriction in argument order"
   ]
  },
  {
   "cell_type": "code",
   "execution_count": 6,
   "metadata": {},
   "outputs": [
    {
     "ename": "TypeError",
     "evalue": "AreaOfSquare() got an unexpected keyword argument 'height'",
     "output_type": "error",
     "traceback": [
      "\u001b[1;31m---------------------------------------------------------------------------\u001b[0m",
      "\u001b[1;31mTypeError\u001b[0m                                 Traceback (most recent call last)",
      "\u001b[1;32m<ipython-input-6-592c77ce2d73>\u001b[0m in \u001b[0;36m<module>\u001b[1;34m\u001b[0m\n\u001b[0;32m      4\u001b[0m \u001b[1;33m\u001b[0m\u001b[0m\n\u001b[0;32m      5\u001b[0m \u001b[1;31m# Argument names doesn't match\u001b[0m\u001b[1;33m\u001b[0m\u001b[1;33m\u001b[0m\u001b[1;33m\u001b[0m\u001b[0m\n\u001b[1;32m----> 6\u001b[1;33m \u001b[0marea\u001b[0m \u001b[1;33m=\u001b[0m \u001b[0mAreaOfSquare\u001b[0m\u001b[1;33m(\u001b[0m\u001b[0mheight\u001b[0m \u001b[1;33m=\u001b[0m \u001b[1;36m4\u001b[0m\u001b[1;33m)\u001b[0m\u001b[1;33m\u001b[0m\u001b[1;33m\u001b[0m\u001b[0m\n\u001b[0m\u001b[0;32m      7\u001b[0m \u001b[0mprint\u001b[0m\u001b[1;33m(\u001b[0m\u001b[0marea\u001b[0m\u001b[1;33m)\u001b[0m\u001b[1;33m\u001b[0m\u001b[1;33m\u001b[0m\u001b[0m\n",
      "\u001b[1;31mTypeError\u001b[0m: AreaOfSquare() got an unexpected keyword argument 'height'"
     ]
    }
   ],
   "source": [
    "# Error: Function expects length argument, but height is passed.\n",
    "def AreaOfSquare(length):\n",
    "    return length**2\n",
    "\n",
    "# Argument names doesn't match\n",
    "area = AreaOfSquare(height = 4)\n",
    "print(area)"
   ]
  },
  {
   "cell_type": "code",
   "execution_count": 7,
   "metadata": {},
   "outputs": [
    {
     "name": "stdout",
     "output_type": "stream",
     "text": [
      "16\n"
     ]
    }
   ],
   "source": [
    "# When we pass length\n",
    "def AreaOfSquare(length):\n",
    "    return length**2\n",
    "\n",
    "# Specifying arguement name\n",
    "area = AreaOfSquare(length = 4)\n",
    "print(area)"
   ]
  },
  {
   "cell_type": "markdown",
   "metadata": {},
   "source": [
    "3. **Default Parameter** : Optional parameters     \n",
    "If a parameter specified in a Python function definition has the form <name> = <value>, then <value> becomes a default value for that parameter. "
   ]
  },
  {
   "cell_type": "code",
   "execution_count": 8,
   "metadata": {},
   "outputs": [
    {
     "name": "stdout",
     "output_type": "stream",
     "text": [
      "1\n",
      "4\n"
     ]
    }
   ],
   "source": [
    "# While calling the method, if No value is passed then Area of Square is calculated for length = 1\n",
    "def AreaOfSquare(length = 1):\n",
    "    return length**2\n",
    "\n",
    "# Calling function without parameter\n",
    "area = AreaOfSquare() # Calculates Area of Square with length = 1\n",
    "print(area)\n",
    "\n",
    "# Passing value for length\n",
    "area_2 = AreaOfSquare(length = 2) # Calculates Area of Square with length = 2\n",
    "print(area_2)"
   ]
  },
  {
   "cell_type": "markdown",
   "metadata": {},
   "source": [
    "4. **Arbitrary Arguments** : When we are not sure of number of arguments to be passed in advance, We can use arbitrary arguments.     \n",
    "    * Use asterisk (*) to denote arbitrary arguments\n",
    "    * This tuple remains empty if no additional arguments are specified during the function call."
   ]
  },
  {
   "cell_type": "code",
   "execution_count": 9,
   "metadata": {},
   "outputs": [
    {
     "name": "stdout",
     "output_type": "stream",
     "text": [
      "<class 'tuple'>\n",
      "Hello Gagana\n",
      "Hello Suraj\n",
      "Hello Sam\n",
      "Hello Steve\n",
      "<class 'tuple'>\n"
     ]
    }
   ],
   "source": [
    "# here *names is a tuple.\n",
    "def greet(*names):\n",
    "    \"\"\"This function greets all\n",
    "    the person in the names tuple.\"\"\"\n",
    "\n",
    "    # names is a tuple with arguments\n",
    "    print(type(names))\n",
    "    \n",
    "    # Unboxing\n",
    "    for name in names:\n",
    "        print(\"Hello\", name)\n",
    "\n",
    "# Passing multiple parameters\n",
    "greet(\"Gagana\", \"Suraj\", \"Sam\", \"Steve\")\n",
    "\n",
    "# if we dont pass anything it will be empty\n",
    "greet()"
   ]
  },
  {
   "cell_type": "markdown",
   "metadata": {},
   "source": [
    "-----------------------------\n",
    "### Recursive Function : \n",
    "\n",
    "1. Recursion is the process of defining something in terms of itself.    \n",
    "2. This means that the function will continue to call itself and repeat its behavior until some condition is met to return a result.    \n",
    "3.  All recursive functions share a common structure made up of two parts: base case and recursive case.\n",
    "4. A base case is a case, where the problem can be solved without further recursion. A recursion can lead to an infinite loop, if the base case is not met in the calls.\n",
    "-------------------------------\n",
    "\n",
    "**Syntax** :    \n",
    "```python\n",
    "def Recursive():\n",
    "    .....\n",
    "    Recursive()\n",
    "    .....\n",
    "Recursive()\n",
    "```\n",
    "\n",
    "**Creating factorial function with and without recursion.**\n",
    "\n",
    "* Without recursion"
   ]
  },
  {
   "cell_type": "code",
   "execution_count": 10,
   "metadata": {},
   "outputs": [
    {
     "name": "stdout",
     "output_type": "stream",
     "text": [
      "The factorial of 5 is 120\n"
     ]
    }
   ],
   "source": [
    "num = 5\n",
    "\n",
    "factorial = 1\n",
    "\n",
    "# check if the number is negative, positive or zero\n",
    "if num < 0:\n",
    "   print(\"Sorry, factorial does not exist for negative numbers\")\n",
    "elif num == 0:\n",
    "   print(\"The factorial of 0 is 1\")\n",
    "else:\n",
    "   for i in range(1,num + 1):\n",
    "       factorial = factorial*i\n",
    "   print(\"The factorial of\",num,\"is\",factorial)\n"
   ]
  },
  {
   "cell_type": "markdown",
   "metadata": {},
   "source": [
    "* Using Recursion"
   ]
  },
  {
   "cell_type": "code",
   "execution_count": 11,
   "metadata": {},
   "outputs": [
    {
     "name": "stdout",
     "output_type": "stream",
     "text": [
      "The factorial of 5 is 120\n"
     ]
    }
   ],
   "source": [
    "def factorial(x):\n",
    "    # Base case: 1! = 1\n",
    "    if x == 1:\n",
    "        return 1\n",
    "    elif x < 0:\n",
    "        print(\"Sorry, factorial does not exist for negative numbers\")\n",
    "    else:\n",
    "        # Recursive case: n! = n * (n-1)!\n",
    "        return (x * factorial(x-1))\n",
    "\n",
    "\n",
    "num = 5\n",
    "print(\"The factorial of\", num, \"is\", factorial(num))"
   ]
  },
  {
   "cell_type": "markdown",
   "metadata": {},
   "source": [
    "-------\n",
    "**Q**. To understand better on how recusion works"
   ]
  },
  {
   "cell_type": "code",
   "execution_count": 12,
   "metadata": {},
   "outputs": [
    {
     "name": "stdout",
     "output_type": "stream",
     "text": [
      "Factorial has been called with x = 5\n",
      "Factorial has been called with x = 4\n",
      "Factorial has been called with x = 3\n",
      "Factorial has been called with x = 2\n",
      "Factorial has been called with x = 1\n",
      "Intermediate result for  2  * factorial( 1 ):  2\n",
      "Intermediate result for  3  * factorial( 2 ):  6\n",
      "Intermediate result for  4  * factorial( 3 ):  24\n",
      "Intermediate result for  5  * factorial( 4 ):  120\n",
      "120\n"
     ]
    }
   ],
   "source": [
    "def factorial(x):\n",
    "    print(\"Factorial has been called with x = {0}\".format(x))\n",
    "    if x == 1:\n",
    "        return 1\n",
    "    else:\n",
    "        res = x * factorial(x-1)\n",
    "        \n",
    "        print(\"Intermediate result for \", x, \" * factorial(\" ,x-1, \"): \",res)\n",
    "        return res\n",
    "\n",
    "print(factorial(5))"
   ]
  },
  {
   "cell_type": "markdown",
   "metadata": {},
   "source": [
    "-------------------\n",
    "**Q**. How many depths can recursion happen ?"
   ]
  },
  {
   "attachments": {
    "e2018367-0644-4693-b5a8-74ca4baf3ab4.png": {
     "image/png": "[encoded data removed]"
    }
   },
   "cell_type": "markdown",
   "metadata": {},
   "source": [
    "By default, the maximum depth of recursion is 1000. If the limit is crossed, it results in RecursionError.\n",
    "![image.png](attachment:e2018367-0644-4693-b5a8-74ca4baf3ab4.png)\n",
    "\n",
    "\n",
    "To encounter the above error, try num = 1234567890 in factorial code\n",
    "\n",
    "-----"
   ]
  },
  {
   "cell_type": "markdown",
   "metadata": {},
   "source": [
    "#### **Lambda Function**\n",
    "\n",
    "* In Python, an anonymous function is a function that is defined without a name.\n",
    "* While normal functions are defined using the `def` keyword in Python, anonymous functions are defined using the `lambda` keyword.\n",
    "* Hence, anonymous functions are also called lambda functions."
   ]
  },
  {
   "cell_type": "markdown",
   "metadata": {},
   "source": [
    "**Syntax**:    \n",
    "\n",
    "`lambda arguments: expression`\n",
    "\n",
    "* Lambda functions can have any number of arguments but only one expression.\n",
    "* The expression is evaluated and returned.\n",
    "* We can assign the function to a variable"
   ]
  },
  {
   "cell_type": "code",
   "execution_count": 13,
   "metadata": {},
   "outputs": [
    {
     "name": "stdout",
     "output_type": "stream",
     "text": [
      "<class 'function'>\n",
      "5\n"
     ]
    }
   ],
   "source": [
    "Add_One = lambda x : x + 1\n",
    "\n",
    "print(type(Add_One))\n",
    "\n",
    "print(Add_One(4))"
   ]
  },
  {
   "cell_type": "markdown",
   "metadata": {},
   "source": [
    "**Q**. How can we write the above lambda function using regular method? "
   ]
  },
  {
   "cell_type": "code",
   "execution_count": 14,
   "metadata": {},
   "outputs": [
    {
     "name": "stdout",
     "output_type": "stream",
     "text": [
      "<class 'function'>\n",
      "5\n"
     ]
    }
   ],
   "source": [
    "def add_one(x):\n",
    "    return x + 1\n",
    "\n",
    "print(type(add_one))\n",
    "\n",
    "print(add_one(4))"
   ]
  },
  {
   "cell_type": "markdown",
   "metadata": {},
   "source": [
    "**Q**. Write a lambda function which gives product of two numbers"
   ]
  },
  {
   "cell_type": "code",
   "execution_count": 15,
   "metadata": {},
   "outputs": [
    {
     "data": {
      "text/plain": [
       "6"
      ]
     },
     "execution_count": 15,
     "metadata": {},
     "output_type": "execute_result"
    }
   ],
   "source": [
    "mul = lambda x,y : x * y\n",
    "mul(2,3)"
   ]
  },
  {
   "cell_type": "markdown",
   "metadata": {},
   "source": [
    "------\n",
    "\n",
    "**More about `print` and `input` functions**"
   ]
  },
  {
   "cell_type": "markdown",
   "metadata": {},
   "source": [
    "**Q**. What might be the return value of `print()`?"
   ]
  },
  {
   "cell_type": "code",
   "execution_count": 16,
   "metadata": {},
   "outputs": [
    {
     "name": "stdout",
     "output_type": "stream",
     "text": [
      "Hello\n",
      "None\n",
      "<class 'NoneType'>\n"
     ]
    }
   ],
   "source": [
    "result = print(\"Hello\")\n",
    "print(result)\n",
    "print(type(result))"
   ]
  },
  {
   "cell_type": "markdown",
   "metadata": {},
   "source": [
    "* Exploring optional parameters of `print()`       \n",
    "\n",
    "`print()` is a built in function and it supports additional arguments which can be passed.    \n",
    "\n",
    "1. `end` : String appended after the last value, default a newline."
   ]
  },
  {
   "cell_type": "code",
   "execution_count": 17,
   "metadata": {},
   "outputs": [
    {
     "name": "stdout",
     "output_type": "stream",
     "text": [
      "Hello\n",
      "World\n"
     ]
    }
   ],
   "source": [
    "# Default behaviour\n",
    "print('Hello')\n",
    "print('World')"
   ]
  },
  {
   "cell_type": "code",
   "execution_count": 18,
   "metadata": {},
   "outputs": [
    {
     "name": "stdout",
     "output_type": "stream",
     "text": [
      "Hello World\n"
     ]
    }
   ],
   "source": [
    "# Using end\n",
    "print('Hello', end = ' ')\n",
    "print('World')"
   ]
  },
  {
   "cell_type": "markdown",
   "metadata": {},
   "source": [
    "2. `sep` : String inserted between values, default a space"
   ]
  },
  {
   "cell_type": "code",
   "execution_count": 19,
   "metadata": {},
   "outputs": [
    {
     "name": "stdout",
     "output_type": "stream",
     "text": [
      "Red Black White\n"
     ]
    }
   ],
   "source": [
    "# Default behaviour\n",
    "print('Red', 'Black', 'White')"
   ]
  },
  {
   "cell_type": "code",
   "execution_count": 20,
   "metadata": {},
   "outputs": [
    {
     "name": "stdout",
     "output_type": "stream",
     "text": [
      "Red,Black,White\n"
     ]
    }
   ],
   "source": [
    "# Using sep\n",
    "print('Red', 'Black', 'White', sep=',')"
   ]
  },
  {
   "cell_type": "markdown",
   "metadata": {},
   "source": [
    "---------------------\n",
    "**`Input()`**      \n",
    "\n",
    "The `input()` method reads a line from input, converts into a string and returns it.    \n",
    "\n",
    "Syntax:     \n",
    "`input([prompt])`    \n",
    "prompt (Optional) - a string that is written to standard output."
   ]
  },
  {
   "cell_type": "markdown",
   "metadata": {},
   "source": [
    "* We can collect user input in following two ways"
   ]
  },
  {
   "cell_type": "code",
   "execution_count": 21,
   "metadata": {},
   "outputs": [
    {
     "name": "stdout",
     "output_type": "stream",
     "text": [
      "Tell us your name ? \n"
     ]
    },
    {
     "name": "stdin",
     "output_type": "stream",
     "text": [
      " Sam\n",
      "Tell us your name ? Sam\n"
     ]
    }
   ],
   "source": [
    "#Method - 1\n",
    "# Using print for standard output\n",
    "print(\"Tell us your name ? \")\n",
    "name = input()\n",
    "\n",
    "#Method - 2\n",
    "# We can prompt within input\n",
    "name = input(\"Tell us your name ?\")"
   ]
  },
  {
   "cell_type": "markdown",
   "metadata": {},
   "source": [
    "--------------"
   ]
  }
 ],
 "metadata": {
  "kernelspec": {
   "display_name": "Python 3",
   "language": "python",
   "name": "python3"
  },
  "language_info": {
   "codemirror_mode": {
    "name": "ipython",
    "version": 3
   },
   "file_extension": ".py",
   "mimetype": "text/x-python",
   "name": "python",
   "nbconvert_exporter": "python",
   "pygments_lexer": "ipython3",
   "version": "3.8.3"
  }
 },
 "nbformat": 4,
 "nbformat_minor": 4
}
